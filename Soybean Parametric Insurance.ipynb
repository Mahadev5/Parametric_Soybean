{
  "nbformat": 4,
  "nbformat_minor": 0,
  "metadata": {
    "colab": {
      "provenance": [],
      "include_colab_link": true
    },
    "kernelspec": {
      "name": "python3",
      "display_name": "Python 3"
    },
    "language_info": {
      "name": "python"
    }
  },
  "cells": [
    {
      "cell_type": "markdown",
      "metadata": {
        "id": "view-in-github",
        "colab_type": "text"
      },
      "source": [
        "<a href=\"https://colab.research.google.com/github/Mahadev5/Parametric_Soybean/blob/main/Soybean%20Parametric%20Insurance.ipynb\" target=\"_parent\"><img src=\"https://colab.research.google.com/assets/colab-badge.svg\" alt=\"Open In Colab\"/></a>"
      ]
    },
    {
      "cell_type": "markdown",
      "source": [
        "Library importing"
      ],
      "metadata": {
        "id": "itnZFbIlNZUs"
      }
    },
    {
      "cell_type": "code",
      "execution_count": 22,
      "metadata": {
        "id": "QNpFd4TtowQc"
      },
      "outputs": [],
      "source": [
        "import pandas as pd\n",
        "from scipy.stats import zscore\n",
        "import matplotlib.pyplot as plt\n",
        "import seaborn as sns\n",
        "import netCDF4 as Dataset\n",
        "import numpy as np"
      ]
    },
    {
      "cell_type": "markdown",
      "source": [
        "Testing NCF dataset"
      ],
      "metadata": {
        "id": "Wkto9WsCsG0u"
      }
    },
    {
      "cell_type": "code",
      "source": [
        "file_2022='/home/RF25_ind2022_rfp25.nc'\n",
        "rainfall_2022 = netCDF4.Dataset(file_2022)\n",
        "print(rainfall_2022)"
      ],
      "metadata": {
        "colab": {
          "base_uri": "https://localhost:8080/"
        },
        "id": "kautYFGMsIh5",
        "outputId": "4fa04def-35e7-4ea7-d53b-0e07150c2ea8"
      },
      "execution_count": 19,
      "outputs": [
        {
          "output_type": "stream",
          "name": "stdout",
          "text": [
            "<class 'netCDF4.Dataset'>\n",
            "root group (NETCDF3_CLASSIC data model, file format NETCDF3):\n",
            "    history: FERRET V7.5 (optimized) 20-Jan-23\n",
            "    Conventions: CF-1.6\n",
            "    dimensions(sizes): LONGITUDE(135), LATITUDE(129), TIME(365)\n",
            "    variables(dimensions): float64 LONGITUDE(LONGITUDE), float64 LATITUDE(LATITUDE), float64 TIME(TIME), float64 RAINFALL(TIME, LATITUDE, LONGITUDE)\n",
            "    groups: \n"
          ]
        }
      ]
    },
    {
      "cell_type": "markdown",
      "source": [
        "Extract the data"
      ],
      "metadata": {
        "id": "-TiGEKRQP3df"
      }
    },
    {
      "cell_type": "code",
      "source": [
        "# Extract necessary variables\n",
        "longitude = rainfall_2022.variables['LONGITUDE'][:]\n",
        "latitude = rainfall_2022.variables['LATITUDE'][:]\n",
        "time = rainfall_2022.variables['TIME'][:]\n",
        "rainfall = rainfall_2022.variables['RAINFALL'][:]  # Shape: (TIME, LATITUDE, LONGITUDE)\n",
        "\n",
        "# Plotting the rainfall data for the first day (time[0])\n",
        "rainfall_day_0 = rainfall[0, :, :]  # First time step, which corresponds to time[0]\n",
        "\n",
        "# Plot the rainfall for the first day\n",
        "plt.figure(figsize=(10, 6))\n",
        "plt.contourf(longitude, latitude, rainfall_day_0, cmap='viridis')\n",
        "plt.colorbar(label='Rainfall (units)')  # Adjust units as per your dataset\n",
        "plt.title(f\"Rainfall on Day {time[0]}\")\n",
        "plt.xlabel('Longitude')\n",
        "plt.ylabel('Latitude')\n",
        "plt.show()\n",
        "\n",
        "# Plotting the average rainfall over the entire year (averaging over the time dimension)\n",
        "rainfall_avg = np.mean(rainfall, axis=0)  # Average over time (axis=0)\n",
        "\n",
        "# Plot the average rainfall\n",
        "plt.figure(figsize=(10, 6))\n",
        "plt.contourf(longitude, latitude, rainfall_avg, cmap='viridis')\n",
        "plt.colorbar(label='Average Rainfall (units)')  # Adjust units as per your dataset\n",
        "plt.title(\"Average Rainfall over the Year\")\n",
        "plt.xlabel('Longitude')\n",
        "plt.ylabel('Latitude')\n",
        "plt.show()"
      ],
      "metadata": {
        "id": "Kpe3uH9CPwqS"
      },
      "execution_count": 21,
      "outputs": []
    }
  ]
}